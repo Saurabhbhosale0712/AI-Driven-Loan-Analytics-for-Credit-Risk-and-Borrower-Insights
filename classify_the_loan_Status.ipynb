{
  "cells": [
    {
      "cell_type": "markdown",
      "metadata": {
        "id": "zZ8hwPvr_GEy"
      },
      "source": [
        "## loan Status Classify\n",
        "\n",
        "Here is a step-by-step Python implementation for **Credit Risk Scoring**. This involves building a classification model and performing clustering to categorize borrowers into low-risk, medium-risk, and high-risk groups.\n",
        "\n",
        "We will use Logistic Regression for classification and KMeans Clustering for segmentation.\n",
        "\n"
      ]
    },
    {
      "cell_type": "code",
      "source": [
        "# Data Manipulation and Analysis\n",
        "import pandas as pd\n",
        "import numpy as np\n",
        "\n",
        "# Data Visualization\n",
        "import matplotlib.pyplot as plt\n",
        "import seaborn as sns\n",
        "\n",
        "# Machine Learning Models\n",
        "import sklearn # Import sklearn before using it.\n",
        "from sklearn.model_selection import train_test_split\n",
        "from sklearn.preprocessing import StandardScaler, LabelEncoder\n",
        "from sklearn.linear_model import LogisticRegression\n",
        "from sklearn.cluster import KMeans\n",
        "from sklearn.metrics import classification_report, confusion_matrix\n",
        "from sklearn.model_selection import train_test_split, GridSearchCV\n",
        "from sklearn.ensemble import RandomForestClassifier\n",
        "from xgboost import XGBClassifier\n",
        "from sklearn.metrics import classification_report, confusion_matrix, roc_auc_score, accuracy_score"
      ],
      "metadata": {
        "id": "dgsOIgdPaTk6"
      },
      "execution_count": null,
      "outputs": []
    },
    {
      "cell_type": "code",
      "source": [
        "# Load the dataset\n",
        "loan_data = pd.read_csv(\"/content/loan_data.csv\")\n",
        "\n",
        "# Identify numeric and categorical columns\n",
        "numeric_columns = loan_data.select_dtypes(include=['float64', 'int64']).columns\n",
        "categorical_columns = loan_data.select_dtypes(include=['object']).columns\n",
        "\n",
        "# Handling missing values for numeric columns (using mean)\n",
        "loan_data[numeric_columns] = loan_data[numeric_columns].fillna(loan_data[numeric_columns].mean())\n",
        "\n",
        "# Handling missing values for categorical columns (using mode)\n",
        "for col in categorical_columns:\n",
        "    loan_data[col] = loan_data[col].fillna(loan_data[col].mode()[0])\n",
        "\n",
        "# Encoding categorical variables using LabelEncoder (for simplicity)\n",
        "label_encoder = LabelEncoder()\n",
        "loan_data['person_gender'] = label_encoder.fit_transform(loan_data['person_gender'])\n",
        "loan_data['person_education'] = label_encoder.fit_transform(loan_data['person_education'])\n",
        "loan_data['person_home_ownership'] = label_encoder.fit_transform(loan_data['person_home_ownership'])\n",
        "loan_data['loan_intent'] = label_encoder.fit_transform(loan_data['loan_intent'])\n",
        "loan_data['previous_loan_defaults_on_file'] = label_encoder.fit_transform(loan_data['previous_loan_defaults_on_file'])\n",
        "\n",
        "# Feature selection (Based on your previous analysis)\n",
        "X = loan_data[['person_age', 'person_gender', 'person_education', 'person_income',\n",
        "               'person_emp_exp', 'person_home_ownership', 'loan_amnt', 'loan_intent',\n",
        "               'loan_int_rate', 'loan_percent_income', 'cb_person_cred_hist_length',\n",
        "               'credit_score', 'previous_loan_defaults_on_file']]\n",
        "y = loan_data['loan_status']  # Target variable\n",
        "\n",
        "# Standardizing the features (Important for some models like Logistic Regression)\n",
        "scaler = StandardScaler()\n",
        "X_scaled = scaler.fit_transform(X)\n"
      ],
      "metadata": {
        "collapsed": true,
        "id": "Kfcw2BTm2Sxd"
      },
      "execution_count": null,
      "outputs": []
    },
    {
      "cell_type": "code",
      "source": [
        "from sklearn.model_selection import train_test_split\n",
        "\n",
        "# Split data into training and testing sets (80% for training, 20% for testing)\n",
        "X_train, X_test, y_train, y_test = train_test_split(X_scaled, y, test_size=0.2, random_state=42)"
      ],
      "metadata": {
        "id": "y0q4VHBk-4mU"
      },
      "execution_count": null,
      "outputs": []
    },
    {
      "cell_type": "markdown",
      "source": [
        "# Logistic Regression"
      ],
      "metadata": {
        "id": "MzOxKAKIjwGy"
      }
    },
    {
      "cell_type": "code",
      "source": [
        "from sklearn.linear_model import LogisticRegression\n",
        "from sklearn.metrics import accuracy_score, confusion_matrix, classification_report\n",
        "\n",
        "# Train Logistic Regression model\n",
        "logreg_model = LogisticRegression(max_iter=1000)\n",
        "logreg_model.fit(X_train, y_train)\n",
        "\n",
        "# Predict on the test set\n",
        "y_pred_logreg = logreg_model.predict(X_test)\n",
        "\n",
        "# Evaluate the model\n",
        "print(\"Logistic Regression Accuracy:\", accuracy_score(y_test, y_pred_logreg))\n",
        "print(\"Confusion Matrix:\\n\", confusion_matrix(y_test, y_pred_logreg))\n",
        "print(\"Classification Report:\\n\", classification_report(y_test, y_pred_logreg))"
      ],
      "metadata": {
        "colab": {
          "base_uri": "https://localhost:8080/"
        },
        "id": "XbT8J5RNjvaC",
        "outputId": "ff154eb3-fd1d-405a-ccc4-c3196ea061a5"
      },
      "execution_count": null,
      "outputs": [
        {
          "output_type": "stream",
          "name": "stdout",
          "text": [
            "Logistic Regression Accuracy: 0.8901111111111111\n",
            "Confusion Matrix:\n",
            " [[6542  448]\n",
            " [ 541 1469]]\n",
            "Classification Report:\n",
            "               precision    recall  f1-score   support\n",
            "\n",
            "           0       0.92      0.94      0.93      6990\n",
            "           1       0.77      0.73      0.75      2010\n",
            "\n",
            "    accuracy                           0.89      9000\n",
            "   macro avg       0.84      0.83      0.84      9000\n",
            "weighted avg       0.89      0.89      0.89      9000\n",
            "\n"
          ]
        }
      ]
    },
    {
      "cell_type": "markdown",
      "source": [
        "# Random Forest Classifier"
      ],
      "metadata": {
        "id": "xQ1twpB7j6-T"
      }
    },
    {
      "cell_type": "code",
      "source": [
        "from sklearn.ensemble import RandomForestClassifier\n",
        "\n",
        "# Train Random Forest Classifier model\n",
        "rf_model = RandomForestClassifier(random_state=42)\n",
        "rf_model.fit(X_train, y_train)\n",
        "\n",
        "# Predict on the test set\n",
        "y_pred_rf = rf_model.predict(X_test)\n",
        "\n",
        "# Evaluate the model\n",
        "print(\"Random Forest Accuracy:\", accuracy_score(y_test, y_pred_rf))\n",
        "print(\"Confusion Matrix:\\n\", confusion_matrix(y_test, y_pred_rf))\n",
        "print(\"Classification Report:\\n\", classification_report(y_test, y_pred_rf))\n"
      ],
      "metadata": {
        "colab": {
          "base_uri": "https://localhost:8080/"
        },
        "id": "VKrY4fq_j5iq",
        "outputId": "5b60fd09-4b82-470d-8e78-b0e5830fe9c8"
      },
      "execution_count": null,
      "outputs": [
        {
          "output_type": "stream",
          "name": "stdout",
          "text": [
            "Random Forest Accuracy: 0.9281111111111111\n",
            "Confusion Matrix:\n",
            " [[6793  197]\n",
            " [ 450 1560]]\n",
            "Classification Report:\n",
            "               precision    recall  f1-score   support\n",
            "\n",
            "           0       0.94      0.97      0.95      6990\n",
            "           1       0.89      0.78      0.83      2010\n",
            "\n",
            "    accuracy                           0.93      9000\n",
            "   macro avg       0.91      0.87      0.89      9000\n",
            "weighted avg       0.93      0.93      0.93      9000\n",
            "\n"
          ]
        }
      ]
    },
    {
      "cell_type": "markdown",
      "source": [
        "# Support machine vector"
      ],
      "metadata": {
        "id": "g_OM2PuCkK2w"
      }
    },
    {
      "cell_type": "code",
      "source": [
        "from sklearn.svm import SVC\n",
        "\n",
        "# Train SVM model\n",
        "svm_model = SVC(kernel='rbf', random_state=42)\n",
        "svm_model.fit(X_train, y_train)\n",
        "\n",
        "# Predict and evaluate\n",
        "y_pred_svm = svm_model.predict(X_test)\n",
        "\n",
        "print(\"SVM Accuracy:\", accuracy_score(y_test, y_pred_svm))\n",
        "print(\"Confusion Matrix:\\n\", confusion_matrix(y_test, y_pred_svm))\n",
        "print(\"Classification Report:\\n\", classification_report(y_test, y_pred_svm))"
      ],
      "metadata": {
        "colab": {
          "base_uri": "https://localhost:8080/"
        },
        "id": "fBnj0e-pkIL2",
        "outputId": "cc298f7d-57fd-478f-add0-921430cd2da7"
      },
      "execution_count": null,
      "outputs": [
        {
          "output_type": "stream",
          "name": "stdout",
          "text": [
            "SVM Accuracy: 0.9084444444444445\n",
            "Confusion Matrix:\n",
            " [[6684  306]\n",
            " [ 518 1492]]\n",
            "Classification Report:\n",
            "               precision    recall  f1-score   support\n",
            "\n",
            "           0       0.93      0.96      0.94      6990\n",
            "           1       0.83      0.74      0.78      2010\n",
            "\n",
            "    accuracy                           0.91      9000\n",
            "   macro avg       0.88      0.85      0.86      9000\n",
            "weighted avg       0.91      0.91      0.91      9000\n",
            "\n"
          ]
        }
      ]
    },
    {
      "cell_type": "markdown",
      "source": [
        "# MLPClassifier is a neural network"
      ],
      "metadata": {
        "id": "1rxVVZU5kWf7"
      }
    },
    {
      "cell_type": "code",
      "source": [
        "from sklearn.neural_network import MLPClassifier\n",
        "\n",
        "# Train MLP model\n",
        "mlp_model = MLPClassifier(hidden_layer_sizes=(50, 50), max_iter=1000, random_state=42)\n",
        "mlp_model.fit(X_train, y_train)\n",
        "\n",
        "# Predict and evaluate\n",
        "y_pred_mlp = mlp_model.predict(X_test)\n",
        "\n",
        "print(\"MLP Accuracy:\", accuracy_score(y_test, y_pred_mlp))\n",
        "print(\"Confusion Matrix:\\n\", confusion_matrix(y_test, y_pred_mlp))\n",
        "print(\"Classification Report:\\n\", classification_report(y_test, y_pred_mlp))\n"
      ],
      "metadata": {
        "colab": {
          "base_uri": "https://localhost:8080/"
        },
        "id": "KQKWkalhkIHZ",
        "outputId": "a4854877-1948-4465-b1f3-5c51474f2b10"
      },
      "execution_count": null,
      "outputs": [
        {
          "output_type": "stream",
          "name": "stdout",
          "text": [
            "MLP Accuracy: 0.9111111111111111\n",
            "Confusion Matrix:\n",
            " [[6664  326]\n",
            " [ 474 1536]]\n",
            "Classification Report:\n",
            "               precision    recall  f1-score   support\n",
            "\n",
            "           0       0.93      0.95      0.94      6990\n",
            "           1       0.82      0.76      0.79      2010\n",
            "\n",
            "    accuracy                           0.91      9000\n",
            "   macro avg       0.88      0.86      0.87      9000\n",
            "weighted avg       0.91      0.91      0.91      9000\n",
            "\n"
          ]
        }
      ]
    },
    {
      "cell_type": "markdown",
      "source": [
        "# XGBoost Classifier"
      ],
      "metadata": {
        "id": "yJj1LeCHlmPo"
      }
    },
    {
      "cell_type": "code",
      "source": [
        "# Train XGBoost model\n",
        "xgb_model = XGBClassifier(random_state=42)\n",
        "xgb_model.fit(X_train, y_train)\n",
        "\n",
        "# Predict and evaluate\n",
        "y_pred_xgb = xgb_model.predict(X_test)\n",
        "\n",
        "print(\"XGBoost Accuracy:\", accuracy_score(y_test, y_pred_xgb))\n",
        "print(\"Confusion Matrix:\\n\", confusion_matrix(y_test, y_pred_xgb))\n",
        "print(\"Classification Report:\\n\", classification_report(y_test, y_pred_xgb))"
      ],
      "metadata": {
        "colab": {
          "base_uri": "https://localhost:8080/"
        },
        "id": "K51GEqdg_DAo",
        "outputId": "1a23c4d7-0930-4c3a-9792-30b09cbfaf90"
      },
      "execution_count": null,
      "outputs": [
        {
          "output_type": "stream",
          "name": "stdout",
          "text": [
            "XGBoost Accuracy: 0.9321111111111111\n",
            "Confusion Matrix:\n",
            " [[6774  216]\n",
            " [ 395 1615]]\n",
            "Classification Report:\n",
            "               precision    recall  f1-score   support\n",
            "\n",
            "           0       0.94      0.97      0.96      6990\n",
            "           1       0.88      0.80      0.84      2010\n",
            "\n",
            "    accuracy                           0.93      9000\n",
            "   macro avg       0.91      0.89      0.90      9000\n",
            "weighted avg       0.93      0.93      0.93      9000\n",
            "\n"
          ]
        }
      ]
    },
    {
      "cell_type": "code",
      "source": [
        "# Example input features\n",
        "input_data = {\n",
        "    'person_age': 22,  # Age of the person in years\n",
        "    'person_gender': 0,  # 0 for Male, 1 for Female\n",
        "    'person_education': 3,  # Education level (0: High School, 1: Bachelor, 2: Master, 3: Doctorate)\n",
        "    'person_income': 71948.0,  # Annual income of the person in dollars\n",
        "    'person_emp_exp': 0,  # Employment experience in years\n",
        "    'person_home_ownership': 0,  # 0 for RENT, 1 for OWN, 2 for MORTGAGE\n",
        "    'loan_intent': 3,  # Loan purpose (0: DEBTCONSOLIDATION, 1: CREDITCARD, 2: HOMEIMPROVEMENT, 3: PERSONAL, 4: MEDICAL, 5: EDUCATION)\n",
        "    'loan_int_rate': 16.02,  # Interest rate for the loan in percentage\n",
        "    'loan_percent_income': 0.49,  # Loan amount as a percentage of income\n",
        "    'cb_person_cred_hist_length': 3.0,  # Credit bureau history length in years\n",
        "    'credit_score': 561,  # Credit score of the person\n",
        "    'previous_loan_defaults_on_file': 0  # 0 for No previous defaults, 1 for Yes\n",
        "}"
      ],
      "metadata": {
        "id": "NJmiMHTaWHvo"
      },
      "execution_count": null,
      "outputs": []
    },
    {
      "cell_type": "code",
      "source": [
        "# Example: Predict loan_status for a new input feature\n",
        "input_features = np.array([[22, 1, 0, 71948.0, 0, 0, 3, 16.02, 0.49, 3.0, 561, 550, 0]])  # Ensure all features are included\n",
        "\n",
        "# Standardize the input features using the same scaler used during training\n",
        "input_features_scaled = scaler.transform(input_features)\n",
        "\n",
        "# Predict loan_status using the trained XGBoost model\n",
        "predicted_loan_status = xgb_model.predict(input_features_scaled)\n",
        "\n",
        "# Output as \"Approved\" or \"Rejected\" based on the prediction\n",
        "loan_status_output = \"Approved\" if predicted_loan_status[0] == 1 else \"Rejected\"\n",
        "print(f\"Predicted Loan Status: {loan_status_output}\")"
      ],
      "metadata": {
        "colab": {
          "base_uri": "https://localhost:8080/"
        },
        "id": "USUO91ZOR7Dr",
        "outputId": "d4eeeed1-fff8-45fe-9f63-82e9f3f75098"
      },
      "execution_count": null,
      "outputs": [
        {
          "output_type": "stream",
          "name": "stdout",
          "text": [
            "Predicted Loan Status: Rejected\n"
          ]
        },
        {
          "output_type": "stream",
          "name": "stderr",
          "text": [
            "/usr/local/lib/python3.10/dist-packages/sklearn/utils/validation.py:2739: UserWarning: X does not have valid feature names, but StandardScaler was fitted with feature names\n",
            "  warnings.warn(\n"
          ]
        }
      ]
    },
    {
      "cell_type": "code",
      "source": [],
      "metadata": {
        "id": "ZATyTegMn-pk"
      },
      "execution_count": null,
      "outputs": []
    }
  ],
  "metadata": {
    "colab": {
      "provenance": []
    },
    "kernelspec": {
      "display_name": "Python 3",
      "name": "python3"
    },
    "language_info": {
      "name": "python"
    }
  },
  "nbformat": 4,
  "nbformat_minor": 0
}